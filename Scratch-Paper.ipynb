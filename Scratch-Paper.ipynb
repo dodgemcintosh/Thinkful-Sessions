{
 "cells": [
  {
   "cell_type": "code",
   "execution_count": 1,
   "metadata": {},
   "outputs": [],
   "source": [
    "import pandas as pd\n",
    "import numpy as np\n",
    "import math"
   ]
  },
  {
   "cell_type": "markdown",
   "metadata": {},
   "source": [
    "## Calculating Standard Deviation and Standard Error by (kind of) hand"
   ]
  },
  {
   "cell_type": "code",
   "execution_count": 2,
   "metadata": {},
   "outputs": [],
   "source": [
    "ex_array = [3,5,7,7,2,7,58]"
   ]
  },
  {
   "cell_type": "code",
   "execution_count": 3,
   "metadata": {},
   "outputs": [],
   "source": [
    "def stdv(numbers):\n",
    "    diffs = 0\n",
    "    avg = sum(numbers)/len(numbers)\n",
    "    for n in numbers:\n",
    "        diffs += (n-avg)**(2)\n",
    "    variance = (diffs/(len(numbers)-1))\n",
    "    return variance ** (0.5)"
   ]
  },
  {
   "cell_type": "code",
   "execution_count": 2,
   "metadata": {},
   "outputs": [],
   "source": [
    "ex_array = [3,5,7,7,2,7,58]"
   ]
  },
  {
   "cell_type": "code",
   "execution_count": 3,
   "metadata": {},
   "outputs": [
    {
     "data": {
      "text/plain": [
       "7.586687230224514"
      ]
     },
     "execution_count": 3,
     "metadata": {},
     "output_type": "execute_result"
    }
   ],
   "source": [
    "np.std(ex_array, ddof=1) / np.sqrt(len(ex_array))"
   ]
  },
  {
   "cell_type": "code",
   "execution_count": 4,
   "metadata": {},
   "outputs": [],
   "source": [
    "def standard_error(array):\n",
    "    return np.std(array, ddof=1) / (len(array)**0.5)"
   ]
  },
  {
   "cell_type": "code",
   "execution_count": 6,
   "metadata": {},
   "outputs": [
    {
     "data": {
      "text/plain": [
       "29074100.53111532"
      ]
     },
     "execution_count": 6,
     "metadata": {},
     "output_type": "execute_result"
    }
   ],
   "source": [
    "standard_error([2786, 87237365, 27346])"
   ]
  },
  {
   "cell_type": "code",
   "execution_count": 4,
   "metadata": {},
   "outputs": [],
   "source": []
  },
  {
   "cell_type": "code",
   "execution_count": null,
   "metadata": {},
   "outputs": [],
   "source": []
  },
  {
   "cell_type": "code",
   "execution_count": null,
   "metadata": {},
   "outputs": [],
   "source": []
  },
  {
   "cell_type": "code",
   "execution_count": 5,
   "metadata": {
    "scrolled": true
   },
   "outputs": [
    {
     "name": "stdout",
     "output_type": "stream",
     "text": [
      "7.586687230224514\n",
      "7.586687230224514\n"
     ]
    }
   ],
   "source": [
    "# Using our functions:\n",
    "print(standard_error(ex_array))\n",
    "\n",
    "# Using an already established one:\n",
    "from scipy import stats\n",
    "print(stats.sem(ex_array))"
   ]
  },
  {
   "cell_type": "code",
   "execution_count": null,
   "metadata": {},
   "outputs": [],
   "source": []
  },
  {
   "cell_type": "code",
   "execution_count": null,
   "metadata": {},
   "outputs": [],
   "source": [
    "def standard_error(array):\n",
    "    return stdv(array) / (len(array)**(0.5))"
   ]
  },
  {
   "cell_type": "code",
   "execution_count": null,
   "metadata": {},
   "outputs": [],
   "source": []
  },
  {
   "cell_type": "code",
   "execution_count": null,
   "metadata": {},
   "outputs": [],
   "source": []
  },
  {
   "cell_type": "code",
   "execution_count": null,
   "metadata": {},
   "outputs": [],
   "source": []
  },
  {
   "cell_type": "code",
   "execution_count": null,
   "metadata": {},
   "outputs": [],
   "source": []
  },
  {
   "cell_type": "code",
   "execution_count": null,
   "metadata": {},
   "outputs": [],
   "source": []
  },
  {
   "cell_type": "code",
   "execution_count": null,
   "metadata": {},
   "outputs": [],
   "source": []
  },
  {
   "cell_type": "code",
   "execution_count": null,
   "metadata": {},
   "outputs": [],
   "source": []
  },
  {
   "cell_type": "code",
   "execution_count": 2,
   "metadata": {},
   "outputs": [],
   "source": [
    "stock = {\n",
    "    'banana':6,\n",
    "    'apple':0,\n",
    "    'orange': 32,\n",
    "    'pear': 15\n",
    "}"
   ]
  },
  {
   "cell_type": "code",
   "execution_count": 3,
   "metadata": {},
   "outputs": [
    {
     "data": {
      "text/plain": [
       "-1"
      ]
     },
     "execution_count": 3,
     "metadata": {},
     "output_type": "execute_result"
    }
   ],
   "source": [
    "stock['apple'] - 1"
   ]
  },
  {
   "cell_type": "code",
   "execution_count": 32,
   "metadata": {},
   "outputs": [],
   "source": [
    "stock['apple'] = stock['apple'] -1"
   ]
  },
  {
   "cell_type": "code",
   "execution_count": 33,
   "metadata": {
    "scrolled": true
   },
   "outputs": [
    {
     "data": {
      "text/plain": [
       "{'apple': -1, 'banana': 6, 'orange': 32, 'pear': 15}"
      ]
     },
     "execution_count": 33,
     "metadata": {},
     "output_type": "execute_result"
    }
   ],
   "source": [
    "stock"
   ]
  },
  {
   "cell_type": "code",
   "execution_count": 4,
   "metadata": {},
   "outputs": [],
   "source": [
    "prices = {\n",
    "    'banana': 4,\n",
    "    'apple': 2,\n",
    "    'orange': 1.5,\n",
    "    'pear': 3\n",
    "}"
   ]
  },
  {
   "cell_type": "code",
   "execution_count": 5,
   "metadata": {},
   "outputs": [
    {
     "data": {
      "text/plain": [
       "1.5"
      ]
     },
     "execution_count": 5,
     "metadata": {},
     "output_type": "execute_result"
    }
   ],
   "source": [
    "prices['orange']"
   ]
  },
  {
   "cell_type": "code",
   "execution_count": 19,
   "metadata": {},
   "outputs": [
    {
     "data": {
      "text/plain": [
       "5"
      ]
     },
     "execution_count": 19,
     "metadata": {},
     "output_type": "execute_result"
    }
   ],
   "source": [
    "prices['apple'] + prices['pear']"
   ]
  },
  {
   "cell_type": "code",
   "execution_count": 18,
   "metadata": {},
   "outputs": [],
   "source": [
    "def compute_bill(list_of_food):\n",
    "    '''\n",
    "    This function takes in a list of food and adds up their value and returns total.\n",
    "    '''\n",
    "    total = 0\n",
    "    for item in list_of_food:\n",
    "        total += prices[item]\n",
    "    return total"
   ]
  },
  {
   "cell_type": "code",
   "execution_count": 20,
   "metadata": {},
   "outputs": [
    {
     "data": {
      "text/plain": [
       "4"
      ]
     },
     "execution_count": 20,
     "metadata": {},
     "output_type": "execute_result"
    }
   ],
   "source": [
    "compute_bill(['banana'])"
   ]
  },
  {
   "cell_type": "code",
   "execution_count": 21,
   "metadata": {},
   "outputs": [
    {
     "data": {
      "text/plain": [
       "4"
      ]
     },
     "execution_count": 21,
     "metadata": {},
     "output_type": "execute_result"
    }
   ],
   "source": [
    "compute_bill(list_of_food=['banana'])"
   ]
  },
  {
   "cell_type": "code",
   "execution_count": 23,
   "metadata": {},
   "outputs": [
    {
     "data": {
      "text/plain": [
       "7.5"
      ]
     },
     "execution_count": 23,
     "metadata": {},
     "output_type": "execute_result"
    }
   ],
   "source": [
    "total = 0\n",
    "for item in ['apple', 'orange', 'banana']:\n",
    "    total += prices[item]\n",
    "total"
   ]
  },
  {
   "cell_type": "code",
   "execution_count": 19,
   "metadata": {},
   "outputs": [
    {
     "data": {
      "text/plain": [
       "3.5"
      ]
     },
     "execution_count": 19,
     "metadata": {},
     "output_type": "execute_result"
    }
   ],
   "source": [
    "compute_bill(list_of_food= ['apple', 'orange'])"
   ]
  },
  {
   "cell_type": "code",
   "execution_count": 24,
   "metadata": {},
   "outputs": [],
   "source": [
    "def compute_bill(food):\n",
    "    total = 0\n",
    "    for item in food:\n",
    "        if stock[item] > 0:\n",
    "            total += prices[item]\n",
    "            stock[item] = stock[item] - 1\n",
    "    return total"
   ]
  },
  {
   "cell_type": "code",
   "execution_count": 25,
   "metadata": {},
   "outputs": [
    {
     "data": {
      "text/plain": [
       "{'apple': 0, 'banana': 6, 'orange': 32, 'pear': 15}"
      ]
     },
     "execution_count": 25,
     "metadata": {},
     "output_type": "execute_result"
    }
   ],
   "source": [
    "stock"
   ]
  },
  {
   "cell_type": "code",
   "execution_count": 26,
   "metadata": {},
   "outputs": [
    {
     "data": {
      "text/plain": [
       "8.5"
      ]
     },
     "execution_count": 26,
     "metadata": {},
     "output_type": "execute_result"
    }
   ],
   "source": [
    "compute_bill(['banana', 'pear', 'orange'])"
   ]
  },
  {
   "cell_type": "code",
   "execution_count": 27,
   "metadata": {},
   "outputs": [
    {
     "data": {
      "text/plain": [
       "{'apple': 0, 'banana': 5, 'orange': 31, 'pear': 14}"
      ]
     },
     "execution_count": 27,
     "metadata": {},
     "output_type": "execute_result"
    }
   ],
   "source": [
    "stock"
   ]
  },
  {
   "cell_type": "code",
   "execution_count": 28,
   "metadata": {},
   "outputs": [
    {
     "data": {
      "text/plain": [
       "12"
      ]
     },
     "execution_count": 28,
     "metadata": {},
     "output_type": "execute_result"
    }
   ],
   "source": [
    "compute_bill(['banana', 'banana', 'banana'])"
   ]
  },
  {
   "cell_type": "code",
   "execution_count": 29,
   "metadata": {},
   "outputs": [
    {
     "data": {
      "text/plain": [
       "{'apple': 0, 'banana': 2, 'orange': 31, 'pear': 14}"
      ]
     },
     "execution_count": 29,
     "metadata": {},
     "output_type": "execute_result"
    }
   ],
   "source": [
    "stock"
   ]
  },
  {
   "cell_type": "code",
   "execution_count": 35,
   "metadata": {},
   "outputs": [],
   "source": [
    "order = ['orange'] * 30"
   ]
  },
  {
   "cell_type": "code",
   "execution_count": 36,
   "metadata": {},
   "outputs": [
    {
     "data": {
      "text/plain": [
       "45.0"
      ]
     },
     "execution_count": 36,
     "metadata": {},
     "output_type": "execute_result"
    }
   ],
   "source": [
    "compute_bill(order)"
   ]
  },
  {
   "cell_type": "code",
   "execution_count": 37,
   "metadata": {},
   "outputs": [
    {
     "data": {
      "text/plain": [
       "{'apple': 0, 'banana': 2, 'orange': 1, 'pear': 14}"
      ]
     },
     "execution_count": 37,
     "metadata": {},
     "output_type": "execute_result"
    }
   ],
   "source": [
    "stock"
   ]
  },
  {
   "cell_type": "code",
   "execution_count": 1,
   "metadata": {},
   "outputs": [],
   "source": [
    "string = '''\n",
    "Record: 48-34, 4th in NBA Western Conference\n",
    "Last Game: L 91-96 at UTA\n",
    "Coach: Billy Donovan (48-34)\n",
    "Executive: Sam Presti\n",
    "PTS/G: 107.9 (12th of 30) Opp PTS/G: 104.4 (10th of 30)\n",
    "SRS: 3.42 (6th of 30) Pace: 96.7 (17th of 30)\n",
    "Off Rtg: 110.7 (7th of 30) Def Rtg: 107.2 (9th of 30)\n",
    "Expected W-L: 50-32 (7th of 30)\n",
    "Denver:\n",
    "\n",
    "Record: 46-36, 9th in NBA Western Conference\n",
    "Last Game: L 106-112 at MIN\n",
    "Coach: Mike Malone (46-36)\n",
    "Executive: Tim Connelly\n",
    "PTS/G: 110.0 (6th of 30) Opp PTS/G: 108.5 (22nd of 30)\n",
    "SRS: 1.57 (11th of 30) Pace: 96.8 (16th of 30)\n",
    "Off Rtg: 112.5 (6th of 30) Def Rtg: 110.9 (25th of 30)\n",
    "Expected W-L: 45-37 (11th of 30)\n",
    "Golden State:\n",
    "\n",
    "Record: 58-24, 2nd in NBA Western Conference\n",
    "Last Game: L 92-95 vs. HOU\n",
    "Next Game: Thursday, May. 24 at HOU\n",
    "Coach: Steve Kerr (58-24)\n",
    "Executive: Bob Myers\n",
    "PTS/G: 113.5 (1st of 30) Opp PTS/G: 107.5 (18th of 30)\n",
    "SRS: 5.79 (3rd of 30) Pace: 99.6 (5th of 30)\n",
    "Off Rtg: 113.6 (3rd of 30) Def Rtg: 107.7 (11th of 30)\n",
    "L.A.:\n",
    "\n",
    "Record: 35-47, 11th in NBA Western Conference\n",
    "Last Game: W 115-100 at LAC\n",
    "Coach: Luke Walton (35-47)\n",
    "Executive: Magic Johnson\n",
    "PTS/G: 108.1 (11th of 30) Opp PTS/G: 109.6 (25th of 30)\n",
    "SRS: -1.44 (21st of 30) Pace: 100.3 (2nd of 30)\n",
    "Off Rtg: 106.5 (23rd of 30) Def Rtg: 108.0 (12th of 30)\n",
    "Expected W-L: 37-45 (21st of 30)'''"
   ]
  },
  {
   "cell_type": "code",
   "execution_count": 2,
   "metadata": {},
   "outputs": [],
   "source": [
    "import re"
   ]
  },
  {
   "cell_type": "code",
   "execution_count": 5,
   "metadata": {},
   "outputs": [
    {
     "data": {
      "text/plain": [
       "['Sam Presti', 'Tim Connelly', 'Bob Myers', 'Magic Johnson']"
      ]
     },
     "execution_count": 5,
     "metadata": {},
     "output_type": "execute_result"
    }
   ],
   "source": [
    "execs = re.findall(r'Executive: (.+)', string)\n",
    "execs"
   ]
  },
  {
   "cell_type": "code",
   "execution_count": 4,
   "metadata": {},
   "outputs": [
    {
     "name": "stdout",
     "output_type": "stream",
     "text": [
      "13\n"
     ]
    }
   ],
   "source": [
    "def countSteps(N):\n",
    "    # just as in our solution explanation above, we know that to climb 1 step\n",
    "    # there is only 1 solution, and for 2 steps there are 2 solutions\n",
    "    if N == 1:\n",
    "        return 1\n",
    "    if N == 2:\n",
    "        return 2\n",
    "\n",
    "    # for all N > 2, we add the previous (N - 1) + (N - 2) steps to get\n",
    "    # an answer recursively\n",
    "    return countSteps(N - 1) + countSteps(N - 2)\n",
    "\n",
    "# the solution for N = 6 will recursively be solved by calculating\n",
    "# the solution for N = 5, N = 4, N = 3, and N = 2 which we know is 2.\n",
    "print(countSteps(6))"
   ]
  },
  {
   "cell_type": "code",
   "execution_count": 15,
   "metadata": {},
   "outputs": [],
   "source": [
    "def is_anagram(str1, str2):\n",
    "    if str1 == str2:\n",
    "        return False\n",
    "    elif sorted(list(str1)) == sorted(list(str2)):\n",
    "        return True\n",
    "\n",
    "def anagram_finder(array):\n",
    "    anagrams = []\n",
    "    for word1 in array:\n",
    "        for word2 in array:\n",
    "            if is_anagram(word1, word2) == True:\n",
    "                anagrams.append(word1)\n",
    "    return list(set(anagrams))\n",
    "\n",
    "anagram_finder(['dog', 'cat', 'act', 'stare', 'stear'])"
   ]
  },
  {
   "cell_type": "code",
   "execution_count": null,
   "metadata": {},
   "outputs": [],
   "source": []
  },
  {
   "cell_type": "code",
   "execution_count": null,
   "metadata": {},
   "outputs": [],
   "source": []
  },
  {
   "cell_type": "code",
   "execution_count": 3,
   "metadata": {},
   "outputs": [],
   "source": [
    "def divisibility(num, check):\n",
    "    if num % check == 0:\n",
    "        return \"Check divides evenly into number.\"\n",
    "    else:\n",
    "        return \"Check doesn't divide evenly into number. Try again!\""
   ]
  },
  {
   "cell_type": "code",
   "execution_count": 6,
   "metadata": {},
   "outputs": [
    {
     "data": {
      "text/plain": [
       "'Check divides evenly into number.'"
      ]
     },
     "execution_count": 6,
     "metadata": {},
     "output_type": "execute_result"
    }
   ],
   "source": [
    "divisibility(144, 3)"
   ]
  },
  {
   "cell_type": "code",
   "execution_count": 8,
   "metadata": {},
   "outputs": [
    {
     "data": {
      "text/plain": [
       "[1, 1, 2, 3, 5, 8, 13]"
      ]
     },
     "execution_count": 8,
     "metadata": {},
     "output_type": "execute_result"
    }
   ],
   "source": [
    "a = [1, 1, 2, 3, 5, 8, 13, 21, 34, 55, 89]\n",
    "def list_checker(array, number):\n",
    "    return [x for x in array if x < number]\n",
    "list_checker(a, 21)"
   ]
  },
  {
   "cell_type": "code",
   "execution_count": 15,
   "metadata": {},
   "outputs": [
    {
     "data": {
      "text/plain": [
       "[1, 7, 19]"
      ]
     },
     "execution_count": 15,
     "metadata": {},
     "output_type": "execute_result"
    }
   ],
   "source": [
    "def divisor_check(number):\n",
    "    return [x for x in range(1, number) if number % x ==0]\n",
    "divisor_check(133)"
   ]
  },
  {
   "cell_type": "code",
   "execution_count": 18,
   "metadata": {},
   "outputs": [
    {
     "data": {
      "text/plain": [
       "False"
      ]
     },
     "execution_count": 18,
     "metadata": {},
     "output_type": "execute_result"
    }
   ],
   "source": [
    "def palindromer(word):\n",
    "    return word == word[::-1]\n",
    "palindromer('banana')"
   ]
  },
  {
   "cell_type": "code",
   "execution_count": 23,
   "metadata": {},
   "outputs": [
    {
     "name": "stdout",
     "output_type": "stream",
     "text": [
      "5\n",
      "12345\n"
     ]
    }
   ],
   "source": [
    "if __name__ == '__main__':\n",
    "    n = int(input())\n",
    "\n",
    "# print(list(range(1,n+1)))\n",
    "my_lst = list(range(1,n+1))\n",
    "print(''.join(map(str, my_lst)))"
   ]
  },
  {
   "cell_type": "code",
   "execution_count": 2,
   "metadata": {},
   "outputs": [
    {
     "data": {
      "text/plain": [
       "['wow', 'that', 'at', 'look', 'wow']"
      ]
     },
     "execution_count": 2,
     "metadata": {},
     "output_type": "execute_result"
    }
   ],
   "source": [
    "def word_reverser(sentence):\n",
    "    new_sentence = sentence.split(' ')\n",
    "    return new_sentence[::-1]\n",
    "\n",
    "word_reverser(\"wow look at that wow\")"
   ]
  },
  {
   "cell_type": "code",
   "execution_count": null,
   "metadata": {},
   "outputs": [],
   "source": [
    "def modes(data):\n",
    "    \n",
    "    for individual in data:\n",
    "        "
   ]
  }
 ],
 "metadata": {
  "kernelspec": {
   "display_name": "Python 3",
   "language": "python",
   "name": "python3"
  },
  "language_info": {
   "codemirror_mode": {
    "name": "ipython",
    "version": 3
   },
   "file_extension": ".py",
   "mimetype": "text/x-python",
   "name": "python",
   "nbconvert_exporter": "python",
   "pygments_lexer": "ipython3",
   "version": "3.6.5"
  }
 },
 "nbformat": 4,
 "nbformat_minor": 2
}
